{
 "cells": [
  {
   "cell_type": "code",
   "execution_count": 3,
   "id": "7e05d8c0",
   "metadata": {
    "ExecuteTime": {
     "end_time": "2024-04-01T12:02:04.838630Z",
     "start_time": "2024-04-01T12:02:04.505347Z"
    }
   },
   "outputs": [],
   "source": [
    "import pandas as pd"
   ]
  },
  {
   "cell_type": "markdown",
   "id": "e14bcaca",
   "metadata": {},
   "source": [
    "# Representative images "
   ]
  },
  {
   "cell_type": "raw",
   "id": "0bb3eb60",
   "metadata": {
    "ExecuteTime": {
     "end_time": "2022-12-19T01:23:08.970952Z",
     "start_time": "2022-12-19T01:23:08.846996Z"
    }
   },
   "source": [
    "meta = pd.read_csv('../data/meta_3d_files.csv', index_col=0) # an old version of this meta (different order, all others same)\n",
    "\n",
    "sel = meta[meta['location']=='RL,TL']\n",
    "\n",
    "sample_df = sel.groupby('label').apply(lambda x: x.sample(frac=0.2))\n",
    "sample_df = sample_df.groupby('gender').apply(lambda x: x.sample(frac=0.2))\n",
    "sample_df = sample_df.reset_index(drop=True)"
   ]
  },
  {
   "cell_type": "raw",
   "id": "2639e98e",
   "metadata": {
    "ExecuteTime": {
     "end_time": "2022-11-29T15:08:12.196000Z",
     "start_time": "2022-11-29T15:08:11.868092Z"
    }
   },
   "source": [
    "! mkdir /nfs/public/fuwai_PQCT/segmentation_nii_frompkl #| wc -l"
   ]
  },
  {
   "cell_type": "raw",
   "id": "6ca78bc3",
   "metadata": {
    "ExecuteTime": {
     "end_time": "2022-11-29T15:42:51.809457Z",
     "start_time": "2022-11-29T15:12:07.691719Z"
    },
    "code_folding": [
     27
    ]
   },
   "source": [
    "import nibabel as nib\n",
    "import os\n",
    "import pickle\n",
    "import numpy as np\n",
    "from time import gmtime, strftime\n",
    "from monai.transforms import (\n",
    "    Compose,\n",
    "    ScaleIntensity,\n",
    "    CenterScaleCrop,\n",
    "    Resize,\n",
    "    RandFlip\n",
    ")\n",
    "center_crop_scale = (.8,.8,.2)\n",
    "vol_size = (512,512,10)\n",
    "\n",
    "training_transform = Compose([\n",
    "    CenterScaleCrop(roi_scale=center_crop_scale),\n",
    "#     ScaleIntensity(),\n",
    "    Resize(vol_size, mode='trilinear'),\n",
    "#     RandFlip(prob=.5, spatial_axis=1)\n",
    "])\n",
    "    \n",
    "for pklpath in sample_df['fpath']:\n",
    "    \n",
    "#     pklpath = '/nfs/public/fuwai_PQCT/img/00000005/00000008.pkl'\n",
    "    basename = os.path.basename(pklpath).strip('.pkl')\n",
    "\n",
    "    with open(f'{pklpath}', 'rb') as f: \n",
    "        img = pickle.load(f).permute((2,1,0))\n",
    "        img = training_transform(img.unsqueeze(0))[0].numpy()[:,:,5] # 2D slice idx==5\n",
    "    \n",
    "    new_image = nib.Nifti1Image(img.astype(np.float32), affine=np.eye(4))\n",
    "    nib.save(new_image, f'/{basename}.nii')"
   ]
  },
  {
   "cell_type": "markdown",
   "id": "4ef1753c",
   "metadata": {},
   "source": [
    "I copied those niis from `/nfs/public/fuwai_PQCT/segmentation_nii_frompkl` to `../data/segmentation_nii_frompkl`\n",
    "\n",
    "Manual labeling of contours on `STK-SNAP`, then all were saved to two files, which I uploaded to `data/manual_segmentation`\n",
    "\n",
    "- `latest.raw.nii` - the main image\n",
    "- `latest.seg.nrrd` - the segmentation"
   ]
  },
  {
   "cell_type": "code",
   "execution_count": null,
   "id": "8b7893dc",
   "metadata": {},
   "outputs": [],
   "source": []
  }
 ],
 "metadata": {
  "kernelspec": {
   "display_name": "Python 3 (ipykernel)",
   "language": "python",
   "name": "python3"
  },
  "language_info": {
   "codemirror_mode": {
    "name": "ipython",
    "version": 3
   },
   "file_extension": ".py",
   "mimetype": "text/x-python",
   "name": "python",
   "nbconvert_exporter": "python",
   "pygments_lexer": "ipython3",
   "version": "3.9.0"
  },
  "toc": {
   "base_numbering": 1,
   "nav_menu": {},
   "number_sections": true,
   "sideBar": true,
   "skip_h1_title": false,
   "title_cell": "Table of Contents",
   "title_sidebar": "Contents",
   "toc_cell": false,
   "toc_position": {},
   "toc_section_display": true,
   "toc_window_display": false
  }
 },
 "nbformat": 4,
 "nbformat_minor": 5
}
